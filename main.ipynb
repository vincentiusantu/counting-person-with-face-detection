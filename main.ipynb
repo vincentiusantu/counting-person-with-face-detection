{
 "cells": [
  {
   "cell_type": "code",
   "execution_count": 1,
   "metadata": {},
   "outputs": [],
   "source": [
    "import cv2"
   ]
  },
  {
   "cell_type": "code",
   "execution_count": 4,
   "metadata": {},
   "outputs": [],
   "source": [
    "filepath = \"haarcascade_frontalface_default.xml\"\n",
    "\n",
    "cam = cv2.VideoCapture(0)\n",
    "\n",
    "while True :\n",
    "    success, img = cam.read ()\n",
    "    classifier = cv2.CascadeClassifier (filepath)\n",
    "\n",
    "    wajah = classifier.detectMultiScale (\n",
    "        img,\n",
    "        minSize= (100,100)\n",
    "    )\n",
    "\n",
    "    for (x,y,w,h) in wajah :\n",
    "        cv2.rectangle(img, (x,y), (x+w, y+h), (0, 255, 0), 3)\n",
    "        \n",
    "    count = len(wajah)\n",
    "    \n",
    "    cv2.putText(img, f'Person: {count}', (10, 30), cv2.FONT_HERSHEY_TRIPLEX, 1.0, (0, 255, 0), 2)\n",
    "    cv2.imshow (\"Face Detector\", img)\n",
    "\n",
    "    if cv2.waitKey(1) & 0xFF == ord('q'):\n",
    "        break"
   ]
  }
 ],
 "metadata": {
  "kernelspec": {
   "display_name": "base",
   "language": "python",
   "name": "python3"
  },
  "language_info": {
   "codemirror_mode": {
    "name": "ipython",
    "version": 3
   },
   "file_extension": ".py",
   "mimetype": "text/x-python",
   "name": "python",
   "nbconvert_exporter": "python",
   "pygments_lexer": "ipython3",
   "version": "3.11.4"
  }
 },
 "nbformat": 4,
 "nbformat_minor": 2
}
